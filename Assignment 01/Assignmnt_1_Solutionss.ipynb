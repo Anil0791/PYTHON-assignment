{
 "cells": [
  {
   "cell_type": "markdown",
   "metadata": {},
   "source": [
    "\n",
    "##### 1. \n",
    "##### Write a function that returns the maximum of two numbers."
   ]
  },
  {
   "cell_type": "code",
   "execution_count": 15,
   "metadata": {},
   "outputs": [
    {
     "name": "stdin",
     "output_type": "stream",
     "text": [
      "enter the two no :  12,23\n"
     ]
    },
    {
     "data": {
      "text/plain": [
       "23"
      ]
     },
     "execution_count": 15,
     "metadata": {},
     "output_type": "execute_result"
    }
   ],
   "source": [
    "def max(a,b):\n",
    "    if a>b:\n",
    "        return a\n",
    "    else:\n",
    "        return b\n",
    "a,b=map(int,input(\"enter the two no : \").split(\",\"))\n",
    "max(a,b)"
   ]
  },
  {
   "cell_type": "code",
   "execution_count": null,
   "metadata": {},
   "outputs": [],
   "source": []
  },
  {
   "cell_type": "markdown",
   "metadata": {},
   "source": [
    "##### 2. \n",
    "##### Write a function called fizz_buzz that takes a number. If the number is divisible by 3, it should return “Fizz”.If it is divisible by 5, it should return “Buzz”. If it is divisible by both 3 and 5, it should return “FizzBuzz”.Otherwise, it should return the same number.\n",
    "\n"
   ]
  },
  {
   "cell_type": "code",
   "execution_count": 16,
   "metadata": {},
   "outputs": [
    {
     "name": "stdin",
     "output_type": "stream",
     "text": [
      "enter a no :  5\n"
     ]
    },
    {
     "data": {
      "text/plain": [
       "'Buzz'"
      ]
     },
     "execution_count": 16,
     "metadata": {},
     "output_type": "execute_result"
    }
   ],
   "source": [
    "def fizz_buzz(n):\n",
    "    if(n%3==0) and (n%5==0):\n",
    "        return \"FizzBuzz\"\n",
    "    elif n%3==0:\n",
    "        return \"Fizz\"\n",
    "    elif n%5==0:\n",
    "        return \"Buzz\"\n",
    "    else:\n",
    "        return n\n",
    "n=int(input(\"enter a no : \"))\n",
    "fizz_buzz(n)"
   ]
  },
  {
   "cell_type": "code",
   "execution_count": null,
   "metadata": {},
   "outputs": [],
   "source": []
  },
  {
   "cell_type": "markdown",
   "metadata": {},
   "source": [
    "##### 3.  \n",
    "##### Write a function for checking the speed of drivers. This function should have one parameter: speed. If speed is less than 70, it should print “Ok”. Otherwise, for every 5km above the speed limit (70), it should give the driver one demerit point and print the total number of demerit points. For example, if the speed is 80, it should print: “Points: 2”. If the driver gets more than 12 points, the function should print: “License suspended”."
   ]
  },
  {
   "cell_type": "code",
   "execution_count": 4,
   "metadata": {},
   "outputs": [
    {
     "name": "stdin",
     "output_type": "stream",
     "text": [
      "enter the vehicle speed:  150\n"
     ]
    },
    {
     "name": "stdout",
     "output_type": "stream",
     "text": [
      "License suspended\n"
     ]
    }
   ],
   "source": [
    "def veh(speed):\n",
    "    if speed<70:\n",
    "        print(\"ok\")\n",
    "    else:\n",
    "        point=(speed-70)//5\n",
    "        if point>12:\n",
    "            print(\"License suspended\")\n",
    "        else:\n",
    "            print(\"points:\",point)\n",
    "        \n",
    "speed=int(input(\"enter the vehicle speed: \"))\n",
    "veh(speed)"
   ]
  },
  {
   "cell_type": "code",
   "execution_count": null,
   "metadata": {},
   "outputs": [],
   "source": []
  },
  {
   "cell_type": "markdown",
   "metadata": {},
   "source": [
    "##### 4.\n",
    "##### Write a function called showNumbers that takes a parameter called limit. It should print all the numbers between 0 and limit with a label to identify the even and odd numbers. For example, if the limit is 3, it should print:\n",
    "\n",
    "##### 1.EVEN\n",
    "##### 2.ODD\n",
    "##### 3.EVEN\n",
    "##### 4.ODD "
   ]
  },
  {
   "cell_type": "code",
   "execution_count": 5,
   "metadata": {},
   "outputs": [
    {
     "name": "stdin",
     "output_type": "stream",
     "text": [
      "enter the limit 3\n"
     ]
    },
    {
     "name": "stdout",
     "output_type": "stream",
     "text": [
      "0 EVEN\n",
      "1 ODD\n",
      "2 EVEN\n",
      "3 ODD\n"
     ]
    }
   ],
   "source": [
    "def showNumbers(n):\n",
    "    for i in range(n+1):\n",
    "        if not i%2:\n",
    "            print(i,\"EVEN\")\n",
    "        else:\n",
    "            print(i,\"ODD\")\n",
    "\n",
    "n=int(input(\"enter the limit\"))\n",
    "showNumbers(n)"
   ]
  },
  {
   "cell_type": "code",
   "execution_count": null,
   "metadata": {},
   "outputs": [],
   "source": []
  },
  {
   "cell_type": "markdown",
   "metadata": {},
   "source": [
    "##### 5.\n",
    "##### Write a function that returns the sum of multiples of 3 and 5 between 0 and limit (parameter). For example, if limit is 20, it should return the sum of 3, 5, 6, 9, 10, 12, 15, 18, 20."
   ]
  },
  {
   "cell_type": "code",
   "execution_count": 1,
   "metadata": {},
   "outputs": [
    {
     "name": "stdin",
     "output_type": "stream",
     "text": [
      "enter the limit 20\n"
     ]
    },
    {
     "data": {
      "text/plain": [
       "98"
      ]
     },
     "execution_count": 1,
     "metadata": {},
     "output_type": "execute_result"
    }
   ],
   "source": [
    "def sum(limit):\n",
    "  k=0\n",
    "  for i in range(0,limit+1):\n",
    "    if i%3==0 or i%5==0:\n",
    "      k=k+i\n",
    "  return k\n",
    "\n",
    "limit=int(input(\"enter the limit\"))\n",
    "sum(limit)"
   ]
  },
  {
   "cell_type": "code",
   "execution_count": null,
   "metadata": {},
   "outputs": [],
   "source": []
  },
  {
   "cell_type": "markdown",
   "metadata": {},
   "source": [
    "##### 6.\n",
    "#####  Write a function called show_stars(rows). If rows is 5, it should print the following:\n",
    "\n",
    "##### '*'\n",
    "\n",
    "##### '**'\n",
    "\n",
    "##### '***'\n",
    "\n",
    "##### '**'\n",
    "\n",
    "##### '*'"
   ]
  },
  {
   "cell_type": "code",
   "execution_count": 12,
   "metadata": {},
   "outputs": [
    {
     "name": "stdin",
     "output_type": "stream",
     "text": [
      "enter the row no 10\n"
     ]
    },
    {
     "name": "stdout",
     "output_type": "stream",
     "text": [
      "*\n",
      "**\n",
      "***\n",
      "****\n",
      "*****\n",
      "*****\n",
      "****\n",
      "***\n",
      "**\n",
      "*\n"
     ]
    }
   ],
   "source": [
    "def show_stars(rows):\n",
    "    a=\"*\"\n",
    "    for i in range(1,rows+1):\n",
    "        if i<(rows/2+1):\n",
    "            print(a*i)\n",
    "        else:\n",
    "            print(a*(rows-i+1))\n",
    "    \n",
    "rows=int(input(\"enter the row no\"))\n",
    "show_stars(rows)"
   ]
  },
  {
   "cell_type": "code",
   "execution_count": null,
   "metadata": {},
   "outputs": [],
   "source": []
  },
  {
   "cell_type": "markdown",
   "metadata": {},
   "source": [
    "##### 7.\n",
    "##### Write a function that prints all the prime numbers between 0 and limit where limit is a parameter."
   ]
  },
  {
   "cell_type": "code",
   "execution_count": 29,
   "metadata": {},
   "outputs": [
    {
     "name": "stdout",
     "output_type": "stream",
     "text": [
      "1\n",
      "2\n",
      "3\n",
      "5\n",
      "7\n",
      "11\n",
      "13\n",
      "17\n",
      "19\n"
     ]
    }
   ],
   "source": [
    "def prime(limit):\n",
    "    print(\"1\")\n",
    "    for i in range(1,limit):\n",
    "        if(i>1):\n",
    "            for j in range(2,i):\n",
    "                if(i%j==0):\n",
    "                    break\n",
    "            else:\n",
    "                print(i)\n",
    "                \n",
    "limit=int(input(\"input a limit no\"))                    \n",
    "prime(limit)"
   ]
  },
  {
   "cell_type": "code",
   "execution_count": null,
   "metadata": {},
   "outputs": [],
   "source": []
  },
  {
   "cell_type": "markdown",
   "metadata": {},
   "source": [
    "##### 8.\n",
    "##### Write a program which will find all such numbers which are divisible by 7 but are not a multiple of 5, between 2000 and 3200 (both included). The numbers obtained should be printed in a comma-separated sequence on a single line.\n",
    "##### Hints:\n",
    "##### Consider use range(#begin, #end) method."
   ]
  },
  {
   "cell_type": "code",
   "execution_count": 1,
   "metadata": {},
   "outputs": [
    {
     "name": "stdout",
     "output_type": "stream",
     "text": [
      "2002,2009,2016,2023,2037,2044,2051,2058,2072,2079,2086,2093,2107,2114,2121,2128,2142,2149,2156,2163,2177,2184,2191,2198,2212,2219,2226,2233,2247,2254,2261,2268,2282,2289,2296,2303,2317,2324,2331,2338,2352,2359,2366,2373,2387,2394,2401,2408,2422,2429,2436,2443,2457,2464,2471,2478,2492,2499,2506,2513,2527,2534,2541,2548,2562,2569,2576,2583,2597,2604,2611,2618,2632,2639,2646,2653,2667,2674,2681,2688,2702,2709,2716,2723,2737,2744,2751,2758,2772,2779,2786,2793,2807,2814,2821,2828,2842,2849,2856,2863,2877,2884,2891,2898,2912,2919,2926,2933,2947,2954,2961,2968,2982,2989,2996\n"
     ]
    }
   ],
   "source": [
    "# ************* with function************\n",
    "def show(x,y):\n",
    "    l=[]\n",
    "    for i in range(x,y+1):\n",
    "        if i%7==0 and i%5!=0:\n",
    "                l.append(i)\n",
    "    print(\",\".join(map(str,l)))\n",
    "                \n",
    "# also take input from user           \n",
    "# x,y=map(int,input(\"enter the limit\").split(\",\"))\n",
    "x=2000;y=3000\n",
    "show(x,y)"
   ]
  },
  {
   "cell_type": "code",
   "execution_count": null,
   "metadata": {},
   "outputs": [],
   "source": []
  },
  {
   "cell_type": "code",
   "execution_count": 2,
   "metadata": {},
   "outputs": [
    {
     "name": "stdout",
     "output_type": "stream",
     "text": [
      "2002,2009,2016,2023,2037,2044,2051,2058,2072,2079,2086,2093,2107,2114,2121,2128,2142,2149,2156,2163,2177,2184,2191,2198,2212,2219,2226,2233,2247,2254,2261,2268,2282,2289,2296,2303,2317,2324,2331,2338,2352,2359,2366,2373,2387,2394,2401,2408,2422,2429,2436,2443,2457,2464,2471,2478,2492,2499,2506,2513,2527,2534,2541,2548,2562,2569,2576,2583,2597,2604,2611,2618,2632,2639,2646,2653,2667,2674,2681,2688,2702,2709,2716,2723,2737,2744,2751,2758,2772,2779,2786,2793,2807,2814,2821,2828,2842,2849,2856,2863,2877,2884,2891,2898,2912,2919,2926,2933,2947,2954,2961,2968,2982,2989,2996\n"
     ]
    }
   ],
   "source": [
    "#************** without function ************************\n",
    "l1=[]\n",
    "for i in range(2000,3001):\n",
    "      if i%7==0 and i%5!=0:\n",
    "            l1.append(i)\n",
    "print(\",\".join(map(str,l1)))"
   ]
  },
  {
   "cell_type": "code",
   "execution_count": null,
   "metadata": {},
   "outputs": [],
   "source": []
  },
  {
   "cell_type": "markdown",
   "metadata": {},
   "source": [
    "##### 9.\n",
    "##### Write a program which can compute the factorial of a given numbers. The results should be printed in a comma-separated sequence on a single line. Suppose the following input is supplied to the program: 8 Then, the output should be: 40320\n",
    "##### Hints:\n",
    "##### In case of input data being supplied to the question, it should be assumed to be a console input"
   ]
  },
  {
   "cell_type": "code",
   "execution_count": 6,
   "metadata": {},
   "outputs": [
    {
     "name": "stdin",
     "output_type": "stream",
     "text": [
      "enter a no 8\n"
     ]
    },
    {
     "name": "stdout",
     "output_type": "stream",
     "text": [
      "Factorial of  8  is : 40320\n"
     ]
    }
   ],
   "source": [
    "# ******* simple method  ***************\n",
    "# =============================================\n",
    "\n",
    "n=int(input(\"enter a no\"))\n",
    "fact=1\n",
    "if n<0:\n",
    "    print(\"enter positive no\")\n",
    "elif n==0:\n",
    "    print(\"factorial of 0 is 1\")\n",
    "else:\n",
    "    for i in range(1,n+1):\n",
    "        fact=fact*i\n",
    "    print(\"Factorial of \",n,\" is :\",fact)\n",
    "        "
   ]
  },
  {
   "cell_type": "code",
   "execution_count": null,
   "metadata": {},
   "outputs": [],
   "source": []
  },
  {
   "cell_type": "code",
   "execution_count": 18,
   "metadata": {},
   "outputs": [
    {
     "name": "stdin",
     "output_type": "stream",
     "text": [
      "enter the number  4\n"
     ]
    },
    {
     "name": "stdout",
     "output_type": "stream",
     "text": [
      "Factorial of  4  is :  24\n"
     ]
    }
   ],
   "source": [
    "# ********FACTORIAL USING RECURSION**************\n",
    "# ===============================================\n",
    "def fact(n):\n",
    "        if n==1 or n==0:\n",
    "            return 1\n",
    "        else:\n",
    "            return n*fact(n-1)\n",
    "    \n",
    "n=int(input(\"enter the number \"))\n",
    "fact(n)\n",
    "print(\"Factorial of \",n,\" is : \",fact(n))"
   ]
  },
  {
   "cell_type": "code",
   "execution_count": null,
   "metadata": {},
   "outputs": [],
   "source": []
  },
  {
   "cell_type": "markdown",
   "metadata": {},
   "source": [
    "##### 10.\n",
    "##### With a given integral number n, write a program to generate a dictionary that contains (i, i*i) such that is an integral number between 1 and n (both included). and then the program should print the dictionary. Suppose the following input is supplied to the program: 8 Then, the output should be: {1: 1, 2: 4, 3: 9, 4: 16, 5: 25, 6: 36, 7: 49, 8: 64}\n",
    "##### Hints:\n",
    "##### In case of input data being supplied to the question, it should be assumed to be a console input. Consider use dict()"
   ]
  },
  {
   "cell_type": "code",
   "execution_count": 17,
   "metadata": {},
   "outputs": [
    {
     "name": "stdin",
     "output_type": "stream",
     "text": [
      "enter a no 4\n"
     ]
    },
    {
     "name": "stdout",
     "output_type": "stream",
     "text": [
      "{1: 1, 2: 4, 3: 9, 4: 16}\n"
     ]
    }
   ],
   "source": [
    "n=int(input(\"enter a no\"))\n",
    "m=dict()\n",
    "for i in range(1,n+1):\n",
    "    m[i]=i*i\n",
    "print(m)"
   ]
  },
  {
   "cell_type": "code",
   "execution_count": null,
   "metadata": {},
   "outputs": [],
   "source": []
  },
  {
   "cell_type": "markdown",
   "metadata": {},
   "source": [
    "##### 11.\n",
    "##### Write a program which accepts a sequence of comma-separated numbers from console and generate a list and a tuple which contains every number. Suppose the following input is supplied to the program: 34,67,55,33,12,98 Then, the output should be: ['34', '67', '55', '33', '12', '98'] ('34', '67', '55', '33', '12', '98')\n",
    "##### Hints:\n",
    "##### In case of input data being supplied to the question, it should be assumed to be a console input. tuple() method can convert list to tuple"
   ]
  },
  {
   "cell_type": "code",
   "execution_count": 9,
   "metadata": {},
   "outputs": [
    {
     "name": "stdin",
     "output_type": "stream",
     "text": [
      "enter the nos 1,2,3\n"
     ]
    },
    {
     "name": "stdout",
     "output_type": "stream",
     "text": [
      "['1', '2', '3'] ('1', '2', '3')\n"
     ]
    }
   ],
   "source": [
    "n=input(\"enter the nos\").split(\",\")\n",
    "p=list(n)\n",
    "q=tuple(n)\n",
    "# q=list(p)\n",
    "# p=list(q)\n",
    "print(p,q)"
   ]
  },
  {
   "cell_type": "code",
   "execution_count": null,
   "metadata": {},
   "outputs": [],
   "source": []
  },
  {
   "cell_type": "markdown",
   "metadata": {},
   "source": [
    "##### 12.\n",
    "##### Define a class which has at least two methods: getString: to get a string from console input printString: to print the string in upper case. Also please include simple test function to test the class methods.\n",
    "##### Hints: \n",
    "##### Use init method to construct some parameters"
   ]
  },
  {
   "cell_type": "code",
   "execution_count": 15,
   "metadata": {},
   "outputs": [
    {
     "name": "stdin",
     "output_type": "stream",
     "text": [
      "input a string anil\n"
     ]
    },
    {
     "name": "stdout",
     "output_type": "stream",
     "text": [
      "ANIL\n"
     ]
    }
   ],
   "source": [
    "class st:\n",
    "    def getstring(self):\n",
    "        s=input(\"input a string\")\n",
    "        self.s=s\n",
    "    def printstring(self):\n",
    "        print(self.s.upper())\n",
    "obj=st()\n",
    "obj.getstring()\n",
    "obj.printstring()"
   ]
  },
  {
   "cell_type": "code",
   "execution_count": null,
   "metadata": {},
   "outputs": [],
   "source": []
  },
  {
   "cell_type": "markdown",
   "metadata": {},
   "source": [
    "##### 13.\n",
    "##### Write a program that calculates and prints the value according to the given formula: Q = Square root of [(2 C D)/H] Following are the fixed values of C and H: C is 50. H is 30. D is the variable whose values should be input to your program in a comma-separated sequence. \n",
    "##### Example Let us assume the following comma separated input sequence is given to the program: 100,150,180\n",
    "##### The output of the program should be: 18,22,24\n",
    "##### Hints: \n",
    "##### If the output received is in decimal form, it should be rounded off to its nearest value (for example, if the output received is 26.0, it should be printed as 26) In case of input data being supplied to the question, it should be assumed to be a console input."
   ]
  },
  {
   "cell_type": "code",
   "execution_count": 1,
   "metadata": {},
   "outputs": [
    {
     "name": "stdin",
     "output_type": "stream",
     "text": [
      "enter the nos:  100,150,180\n"
     ]
    },
    {
     "name": "stdout",
     "output_type": "stream",
     "text": [
      "18,22,24\n"
     ]
    }
   ],
   "source": [
    "# *************** Using MATH Module ************\n",
    "import math\n",
    "d=map(int,input(\"enter the nos: \").split(\",\"))\n",
    "c=50;h=30\n",
    "l=[]\n",
    "for i in d:\n",
    "    q=int(2*c*i/h)\n",
    "    q=int(math.sqrt(q))\n",
    "    l.append(str(q))\n",
    "print(\",\".join(l))\n",
    "#print(\",\".join(map(str,l)))"
   ]
  },
  {
   "cell_type": "code",
   "execution_count": null,
   "metadata": {},
   "outputs": [],
   "source": []
  },
  {
   "cell_type": "code",
   "execution_count": 18,
   "metadata": {},
   "outputs": [
    {
     "name": "stdin",
     "output_type": "stream",
     "text": [
      "enter the nos:  100,150,180\n"
     ]
    },
    {
     "name": "stdout",
     "output_type": "stream",
     "text": [
      "18,22,24\n"
     ]
    }
   ],
   "source": [
    "# *************** Using Simple Method ************\n",
    "d=map(int,input(\"enter the nos: \").split(\",\"))\n",
    "c=50;h=30\n",
    "l=[]\n",
    "for i in d:\n",
    "    q=int(2*c*i/h)\n",
    "    q=int(q**(1/2))\n",
    "    l.append(q)\n",
    "print(\",\".join(map(str,l)))"
   ]
  },
  {
   "cell_type": "code",
   "execution_count": null,
   "metadata": {},
   "outputs": [],
   "source": []
  },
  {
   "cell_type": "markdown",
   "metadata": {},
   "source": [
    "##### 14.\n",
    "##### Write a program which takes 2 digits, X,Y as input and generates a 2-dimensional array. The element value in the i-th row and j-th column of the array should be i*j. Note: i=0,1.., X-1; j=0,1,¡­Y-1.\n",
    "##### Example: Suppose the following inputs are given to the program: 3,5 Then, the output of the program should be: [[0, 0, 0, 0, 0], [0, 1, 2, 3, 4], [0, 2, 4, 6, 8]]\n",
    "##### Hints: \n",
    "##### Note: In case of input data being supplied to the question, it should be assumed to be a console input in a comma-separated form."
   ]
  },
  {
   "cell_type": "code",
   "execution_count": null,
   "metadata": {},
   "outputs": [],
   "source": []
  },
  {
   "cell_type": "code",
   "execution_count": null,
   "metadata": {},
   "outputs": [],
   "source": []
  },
  {
   "cell_type": "markdown",
   "metadata": {},
   "source": [
    "##### 15.\n",
    "##### Write a program that accepts a comma separated sequence of words as input and prints the words in a comma-separated sequence after sorting them alphabetically. Suppose the following input is supplied to the program: without,hello,bag,world Then, the output should be: bag,hello,without,world\n",
    "##### Hints:\n",
    "##### In case of input data being supplied to the question, it should be assumed to be a console input."
   ]
  },
  {
   "cell_type": "code",
   "execution_count": 16,
   "metadata": {},
   "outputs": [
    {
     "name": "stdin",
     "output_type": "stream",
     "text": [
      "enter the words :  a\n"
     ]
    },
    {
     "name": "stdout",
     "output_type": "stream",
     "text": [
      "a\n"
     ]
    }
   ],
   "source": [
    "s=input(\"enter the words : \").split(\",\")\n",
    "s.sort()                          # sort prefer CAPPITAL letter first thn small letter arrangmnt\n",
    "print(\",\".join(s))"
   ]
  },
  {
   "cell_type": "code",
   "execution_count": null,
   "metadata": {},
   "outputs": [],
   "source": []
  },
  {
   "cell_type": "markdown",
   "metadata": {},
   "source": [
    "##### 16.\n",
    "##### Write a program that accepts sequence of lines as input and prints the lines after making all characters in the sentence capitalized. Suppose the following input is supplied to the program: Hello world Practice makes perfect Then, the output should be: HELLO WORLD PRACTICE MAKES PERFECT\n",
    "##### Hints:\n",
    "##### In case of input data being supplied to the question, it should be assumed to be a console input"
   ]
  },
  {
   "cell_type": "code",
   "execution_count": 8,
   "metadata": {},
   "outputs": [
    {
     "name": "stdin",
     "output_type": "stream",
     "text": [
      "enter string:  ANIL Patidar\n"
     ]
    },
    {
     "name": "stdout",
     "output_type": "stream",
     "text": [
      "ANIL PATIDAR\n",
      "anil patidar\n"
     ]
    }
   ],
   "source": [
    "s=input(\"enter string: \")\n",
    "print(s.upper())\n",
    "print(s.lower())"
   ]
  },
  {
   "cell_type": "code",
   "execution_count": null,
   "metadata": {},
   "outputs": [],
   "source": []
  },
  {
   "cell_type": "markdown",
   "metadata": {},
   "source": [
    "##### 17.\n",
    "##### Write a program that accepts a sequence of whitespace separated words as input and prints the words after removing all duplicate words and sorting them alphanumerically. Suppose the following input is supplied to the program: hello world and practice makes perfect and hello world again Then, the output should be: again and hello makes perfect practice world\n",
    "##### Hints:\n",
    "##### In case of input data being supplied to the question, it should be assumed to be a console input. We use set container to remove duplicated data automatically and then use sorted() to sort the data."
   ]
  },
  {
   "cell_type": "code",
   "execution_count": 19,
   "metadata": {},
   "outputs": [
    {
     "name": "stdin",
     "output_type": "stream",
     "text": [
      "enter string :  hello world and practice makes perfect and hello world again\n"
     ]
    },
    {
     "name": "stdout",
     "output_type": "stream",
     "text": [
      "again and hello makes perfect practice world\n"
     ]
    }
   ],
   "source": [
    "s=input(\"enter string : \").split(\" \")\n",
    "l=[]\n",
    "for i in s:\n",
    "    if i in l:\n",
    "        continue\n",
    "    else:\n",
    "        l.append(i)\n",
    " \n",
    "p=sorted(l)    # sorted create new list\n",
    "# l.sort()     # sort update the same list\n",
    "# print(\" \".join(l))\n",
    "print(\" \".join(p))"
   ]
  },
  {
   "cell_type": "code",
   "execution_count": null,
   "metadata": {},
   "outputs": [],
   "source": []
  },
  {
   "cell_type": "markdown",
   "metadata": {},
   "source": [
    "##### 18.\n",
    "##### Write a program which accepts a sequence of comma separated 4 digit binary numbers as its input and then check whether they are divisible by 5 or not. The numbers that are divisible by 5 are to be printed in a comma separated sequence.\n",
    "##### Example:\n",
    "##### 0100,0011,1010,1001 Then the output should be: 1010 Notes: Assume the data is input by console.\n",
    "##### Hints:\n",
    "##### In case of input data being supplied to the question, it should be assumed to be a console input."
   ]
  },
  {
   "cell_type": "code",
   "execution_count": 37,
   "metadata": {},
   "outputs": [
    {
     "name": "stdin",
     "output_type": "stream",
     "text": [
      "enter the no 0101\n"
     ]
    },
    {
     "name": "stdout",
     "output_type": "stream",
     "text": [
      "0101\n"
     ]
    }
   ],
   "source": [
    "x= input(\"enter the no\").split(\",\")\n",
    "l=[]\n",
    "for i in x:\n",
    "    j=int(i,2)\n",
    "    if not j%5:    # if j%5==0 are same\n",
    "        l.append(i)\n",
    "print(\",\".join(l))"
   ]
  },
  {
   "cell_type": "code",
   "execution_count": null,
   "metadata": {},
   "outputs": [],
   "source": []
  },
  {
   "cell_type": "markdown",
   "metadata": {},
   "source": [
    "##### 19.\n",
    "##### Write a program, which will find all such numbers between 1000 and 3000 (both included) such that each digit of the number is an even number. The numbers obtained should be printed in a comma-separated sequence on a single line.\n",
    "##### Hints:\n",
    "##### In case of input data being supplied to the question, it should be assumed to be a console input."
   ]
  },
  {
   "cell_type": "code",
   "execution_count": 42,
   "metadata": {},
   "outputs": [
    {
     "name": "stdout",
     "output_type": "stream",
     "text": [
      "2000,2002,2004,2006,2008,2020,2022,2024,2026,2028,2040,2042,2044,2046,2048,2060,2062,2064,2066,2068,2080,2082,2084,2086,2088,2200,2202,2204,2206,2208,2220,2222,2224,2226,2228,2240,2242,2244,2246,2248,2260,2262,2264,2266,2268,2280,2282,2284,2286,2288,2400,2402,2404,2406,2408,2420,2422,2424,2426,2428,2440,2442,2444,2446,2448,2460,2462,2464,2466,2468,2480,2482,2484,2486,2488,2600,2602,2604,2606,2608,2620,2622,2624,2626,2628,2640,2642,2644,2646,2648,2660,2662,2664,2666,2668,2680,2682,2684,2686,2688,2800,2802,2804,2806,2808,2820,2822,2824,2826,2828,2840,2842,2844,2846,2848,2860,2862,2864,2866,2868,2880,2882,2884,2886,2888\n"
     ]
    }
   ],
   "source": [
    "l=[]\n",
    "for i in range(1000,3001):\n",
    "        a=int(i)%2\n",
    "        b=int(i/10)%2\n",
    "        c=int(i/100)%2\n",
    "        d=int(i/1000)%2\n",
    "        if (a==0) and (b==0) and (c==0) and (d==0):        \n",
    "                l.append(i)\n",
    "   \n",
    "print(\",\".join(map(str,l)))"
   ]
  },
  {
   "cell_type": "code",
   "execution_count": null,
   "metadata": {},
   "outputs": [],
   "source": []
  },
  {
   "cell_type": "markdown",
   "metadata": {},
   "source": [
    "##### 20.\n",
    "##### Write a program that accepts a sentence and calculate the number of letters and digits. Suppose the following input is supplied to the program: hello world! 123 Then, the output should be: LETTERS 10 DIGITS 3\n",
    "##### Hints:\n",
    "##### In case of input data being supplied to the question, it should be assumed to be a console input."
   ]
  },
  {
   "cell_type": "code",
   "execution_count": 80,
   "metadata": {},
   "outputs": [
    {
     "name": "stdout",
     "output_type": "stream",
     "text": [
      "LETTERS:  10  DIGITS : 3\n"
     ]
    }
   ],
   "source": [
    "#s=input(\"enter a string\")\n",
    "s=\"hello world! 123\"\n",
    "l=[]\n",
    "letters=digits=0\n",
    "for i in range(len(s)):\n",
    "    if s[i]!=\" \":\n",
    "        if(64<ord(s[i])<123):\n",
    "                letters+=1\n",
    "                l.append(s[i])\n",
    "        elif (s[i].isdigit()):\n",
    "                digits+=1\n",
    "                l.append(s[i])\n",
    "            \n",
    "#print(l)\n",
    "print(\"LETTERS: \",letters, \" DIGITS :\",digits)"
   ]
  },
  {
   "cell_type": "code",
   "execution_count": null,
   "metadata": {},
   "outputs": [],
   "source": []
  },
  {
   "cell_type": "markdown",
   "metadata": {},
   "source": [
    "##### 21.\n",
    "##### Write a program that accepts a sentence and calculate the number of upper case letters and lower case letters. Suppose the following input is supplied to the program: Hello world! Then, the output should be: UPPER CASE 1 LOWER CASE 9\n",
    "##### Hints:\n",
    "##### In case of input data being supplied to the question, it should be assumed to be a console input."
   ]
  },
  {
   "cell_type": "code",
   "execution_count": 83,
   "metadata": {},
   "outputs": [
    {
     "name": "stdout",
     "output_type": "stream",
     "text": [
      "UPPER CASE :  1  LOWER CASE : 9\n"
     ]
    }
   ],
   "source": [
    "#s=input(\"enter a string\")\n",
    "s=\"Hello world!\"\n",
    "l=[]\n",
    "lower=upper=0\n",
    "for i in range(len(s)):\n",
    "    if s[i]!=\" \":\n",
    "        if(s[i].islower()):\n",
    "                lower+=1\n",
    "                l.append(s[i])\n",
    "        elif (s[i].isupper()):\n",
    "                upper+=1\n",
    "                l.append(s[i])\n",
    "            \n",
    "#print(l)\n",
    "print(\"UPPER CASE : \",upper, \" LOWER CASE :\",lower)"
   ]
  },
  {
   "cell_type": "code",
   "execution_count": null,
   "metadata": {},
   "outputs": [],
   "source": []
  },
  {
   "cell_type": "markdown",
   "metadata": {},
   "source": [
    "##### 22.\n",
    "##### Write a program that computes the value of a+aa+aaa+aaaa with a given digit as the value of a. Suppose the following input is supplied to the program: 9 Then, the output should be: 11106\n",
    "##### Hints:\n",
    "##### In case of input data being supplied to the question, it should be assumed to be a console input."
   ]
  },
  {
   "cell_type": "code",
   "execution_count": null,
   "metadata": {},
   "outputs": [],
   "source": []
  },
  {
   "cell_type": "code",
   "execution_count": null,
   "metadata": {},
   "outputs": [],
   "source": []
  },
  {
   "cell_type": "markdown",
   "metadata": {},
   "source": [
    "##### 23.\n",
    "##### Use a list comprehension to square each odd number in a list. The list is input by a sequence of comma-separated numbers. Suppose the following input is supplied to the program: 1,2,3,4,5,6,7,8,9 Then, the output should be: 1,3,5,7,9\n",
    "##### Hints:\n",
    "##### In case of input data being supplied to the question, it should be assumed to be a console input."
   ]
  },
  {
   "cell_type": "code",
   "execution_count": 8,
   "metadata": {},
   "outputs": [
    {
     "name": "stdin",
     "output_type": "stream",
     "text": [
      "enter no 1,2,3,4,5,6,7,8,9\n"
     ]
    },
    {
     "name": "stdout",
     "output_type": "stream",
     "text": [
      "1,3,5,7,9\n",
      "1,9,25,49,81\n"
     ]
    }
   ],
   "source": [
    "n=input(\"enter no\").split(\",\")\n",
    "l=[]\n",
    "for i in n:\n",
    "    l.append(int(i))\n",
    "p=list(filter(lambda i:(i%2!=0),l))\n",
    "q=list(map(lambda x:x**2,p))\n",
    "print(\",\".join(map(str,p)))\n",
    "print(\",\".join(map(str,q)))"
   ]
  },
  {
   "cell_type": "code",
   "execution_count": null,
   "metadata": {},
   "outputs": [],
   "source": []
  },
  {
   "cell_type": "markdown",
   "metadata": {},
   "source": [
    "##### 24.\n",
    "##### Write a program that computes the net amount of a bank account based a transaction log from console input. The transaction log format is shown as following: D 100 W 200\n",
    "##### D means deposit while W means withdrawal. Suppose the following input is supplied to the program: D 300 D 300 W 200 D 100\n",
    "##### Then, the output should be: 500\n",
    "##### Hints:\n",
    "##### In case of input data being supplied to the question, it should be assumed to be a console input."
   ]
  },
  {
   "cell_type": "code",
   "execution_count": null,
   "metadata": {},
   "outputs": [],
   "source": []
  },
  {
   "cell_type": "code",
   "execution_count": null,
   "metadata": {},
   "outputs": [],
   "source": []
  },
  {
   "cell_type": "markdown",
   "metadata": {},
   "source": [
    "##### 25.\n",
    "##### A website requires the users to input username and password to register. Write a program to check the validity of password input by users. Following are the criteria for checking the password:\n",
    "##### 1. At least 1 letter between [a-z]\n",
    "##### 2. At least 1 number between [0-9]\n",
    "##### 3. At least 1 letter between [A-Z]\n",
    "##### 4. At least 1 character from [$#@]\n",
    "##### 5. Minimum length of transaction password: 6\n",
    "##### 6. Maximum length of transaction password: 12 Your program should accept a sequence of comma separated passwords and will check them according to the above criteria. Passwords that match the criteria are to be printed, each separated by a comma.\n",
    "\n",
    "##### Example : If the following passwords are given as input to the program:\n",
    "##### ABd1234@1,a F1#,2w3E*,2We3345\n",
    "##### Then, the output of the program should be:\n",
    "##### ABd1234@1\n",
    "##### Hints: \n",
    "##### In case of input data being supplied to the question, it should be assumed to be a console input."
   ]
  },
  {
   "cell_type": "code",
   "execution_count": null,
   "metadata": {},
   "outputs": [],
   "source": []
  },
  {
   "cell_type": "code",
   "execution_count": null,
   "metadata": {},
   "outputs": [],
   "source": []
  },
  {
   "cell_type": "markdown",
   "metadata": {},
   "source": [
    "##### 26.\n",
    "##### You are required to write a program to sort the (name, age, height) tuples by ascending order where name is string, age and height are numbers. The tuples are input by console. The sort criteria is: 1: Sort based on name; 2: Then sort based on age; 3: Then sort by score. The priority is that name > age > score. If the following tuples are given as input to the program: Tom,19,80 John,20,90 Jony,17,91 Jony,17,93 Json,21,85\n",
    "##### Then, the output of the program should be: [('John', '20', '90'), ('Jony', '17', '91'), ('Jony', '17', '93'), ('Json', '21', '85'), ('Tom', '19', '80')]\n",
    "##### Hints:\n",
    "##### In case of input data being supplied to the question, it should be assumed to be a console input. We use itemgetter to enable multiple sort keys."
   ]
  },
  {
   "cell_type": "code",
   "execution_count": null,
   "metadata": {},
   "outputs": [],
   "source": []
  },
  {
   "cell_type": "code",
   "execution_count": null,
   "metadata": {},
   "outputs": [],
   "source": []
  },
  {
   "cell_type": "markdown",
   "metadata": {},
   "source": [
    "##### 27.\n",
    "##### Define a class with a generator which can iterate the numbers, which are divisible by 7, between a given range 0 and n.\n",
    "##### Hints:\n",
    "##### Consider use yield"
   ]
  },
  {
   "cell_type": "code",
   "execution_count": null,
   "metadata": {},
   "outputs": [],
   "source": []
  },
  {
   "cell_type": "code",
   "execution_count": null,
   "metadata": {},
   "outputs": [],
   "source": []
  },
  {
   "cell_type": "markdown",
   "metadata": {},
   "source": [
    "##### 28.\n",
    "##### A robot moves in a plane starting from the original point (0,0). The robot can move toward UP, DOWN, LEFT and RIGHT with a given steps. The trace of robot movement is shown as the following: UP 5 DOWN 3 LEFT 3 RIGHT 2 ¡­ The numbers after the direction are steps. Please write a program to compute the distance from current position after a sequence of movement and original point. If the distance is a float, then just print the nearest integer. Example: If the following tuples are given as input to the program: UP 5 DOWN 3 LEFT 3 RIGHT 2 Then, the output of the program should be: 2\n",
    "##### Hints:\n",
    "##### In case of input data being supplied to the question, it should be assumed to be a console input."
   ]
  },
  {
   "cell_type": "code",
   "execution_count": null,
   "metadata": {},
   "outputs": [],
   "source": []
  },
  {
   "cell_type": "code",
   "execution_count": null,
   "metadata": {},
   "outputs": [],
   "source": []
  },
  {
   "cell_type": "markdown",
   "metadata": {},
   "source": [
    "##### 29.\n",
    "##### Write a program to compute the frequency of the words from the input. The output should output after sorting the key alphanumerically. Suppose the following input is supplied to the program: New to Python or choosing between Python 2 and Python 3? Read Python 2 or Python 3. Then, the output should be: 2:2 3.:1 3?:1 New:1 Python:5 Read:1 and:1 between:1 choosing:1 or:2 to:1\n",
    "##### Hints\n",
    "##### In case of input data being supplied to the question, it should be assumed to be a console input."
   ]
  },
  {
   "cell_type": "code",
   "execution_count": null,
   "metadata": {},
   "outputs": [],
   "source": []
  },
  {
   "cell_type": "code",
   "execution_count": null,
   "metadata": {},
   "outputs": [],
   "source": []
  },
  {
   "cell_type": "markdown",
   "metadata": {},
   "source": [
    "##### 30.\n",
    "##### Write a method which can calculate square value of number\n",
    "##### Hints:\n",
    "##### Using the ** operator"
   ]
  },
  {
   "cell_type": "code",
   "execution_count": 26,
   "metadata": {},
   "outputs": [
    {
     "name": "stdin",
     "output_type": "stream",
     "text": [
      "enter a no 5\n"
     ]
    },
    {
     "name": "stdout",
     "output_type": "stream",
     "text": [
      "25\n"
     ]
    }
   ],
   "source": [
    "class a:\n",
    "    def sqr(self,n):\n",
    "        self.n=n\n",
    "        return n**2\n",
    "n=int(input(\"enter a no\"))  \n",
    "obj=a()\n",
    "p=obj.sqr(n)\n",
    "print(p)"
   ]
  },
  {
   "cell_type": "code",
   "execution_count": null,
   "metadata": {},
   "outputs": [],
   "source": []
  },
  {
   "cell_type": "markdown",
   "metadata": {},
   "source": [
    "##### 31.\n",
    "##### Python has many built-in functions, and if you do not know how to use it, you can read document online or find some books. But Python has a built-in document function for every built-in functions. Please write a program to print some Python built-in functions documents, such as abs(), int(), raw_input() And add document for your own function\n",
    "##### Hints:\n",
    "##### The built-in document method is doc"
   ]
  },
  {
   "cell_type": "code",
   "execution_count": null,
   "metadata": {},
   "outputs": [],
   "source": []
  },
  {
   "cell_type": "code",
   "execution_count": null,
   "metadata": {},
   "outputs": [],
   "source": []
  },
  {
   "cell_type": "markdown",
   "metadata": {},
   "source": [
    "##### 32.\n",
    "##### Define a class, which have a class parameter and have a same instance parameter.\n",
    "##### Hints: \n",
    "##### Define a instance parameter, need add it in init method You can init a object with construct parameter or set the value later"
   ]
  },
  {
   "cell_type": "code",
   "execution_count": null,
   "metadata": {},
   "outputs": [],
   "source": []
  },
  {
   "cell_type": "code",
   "execution_count": null,
   "metadata": {},
   "outputs": [],
   "source": []
  },
  {
   "cell_type": "markdown",
   "metadata": {},
   "source": [
    "##### 33.\n",
    "##### Define a function which can compute the sum of two numbers.\n",
    "##### Hints:\n",
    "##### Define a function with two numbers as arguments. You can compute the sum in the function and return the value."
   ]
  },
  {
   "cell_type": "code",
   "execution_count": 28,
   "metadata": {},
   "outputs": [
    {
     "name": "stdin",
     "output_type": "stream",
     "text": [
      "enter the no 1,2\n"
     ]
    },
    {
     "name": "stdout",
     "output_type": "stream",
     "text": [
      "3\n"
     ]
    }
   ],
   "source": [
    "def sum(a,b):\n",
    "    c=a+b\n",
    "    return c\n",
    "a,b=map(int,input(\"enter the no\").split(\",\"))\n",
    "d=sum(a,b)\n",
    "print(d)"
   ]
  },
  {
   "cell_type": "code",
   "execution_count": null,
   "metadata": {},
   "outputs": [],
   "source": []
  },
  {
   "cell_type": "markdown",
   "metadata": {},
   "source": [
    "##### 34.\n",
    "##### Define a function that can convert a integer into a string and print it in console.\n",
    "##### Hints:\n",
    "##### Use str() to convert a number to string."
   ]
  },
  {
   "cell_type": "code",
   "execution_count": 49,
   "metadata": {},
   "outputs": [
    {
     "name": "stdin",
     "output_type": "stream",
     "text": [
      "input a string 5647\n"
     ]
    },
    {
     "name": "stdout",
     "output_type": "stream",
     "text": [
      "5647\n"
     ]
    }
   ],
   "source": [
    "def conint(s):\n",
    "    print(int(s,10))\n",
    "\n",
    "s=input(\"input a string\")\n",
    "conint(s)"
   ]
  },
  {
   "cell_type": "code",
   "execution_count": null,
   "metadata": {},
   "outputs": [],
   "source": []
  },
  {
   "cell_type": "markdown",
   "metadata": {},
   "source": [
    "##### 35.\n",
    "##### Define a function that can receive two integral numbers in string form and compute their sum and then print it in console.\n",
    "##### Hints:\n",
    "##### Use int() to convert a string to integer."
   ]
  },
  {
   "cell_type": "code",
   "execution_count": 52,
   "metadata": {},
   "outputs": [
    {
     "name": "stdin",
     "output_type": "stream",
     "text": [
      "enter 2 no 10,20\n"
     ]
    },
    {
     "data": {
      "text/plain": [
       "30"
      ]
     },
     "execution_count": 52,
     "metadata": {},
     "output_type": "execute_result"
    }
   ],
   "source": [
    "def sum(a,b):\n",
    "    return a+b\n",
    "\n",
    "#a,b=input(\"enter two no\").split(\",\")\n",
    "a,b=map(int,input(\"enter 2 no : \").split(\",\"))\n",
    "#a=int(a)\n",
    "#b=int(b)\n",
    "sum(a,b)"
   ]
  },
  {
   "cell_type": "code",
   "execution_count": null,
   "metadata": {},
   "outputs": [],
   "source": []
  },
  {
   "cell_type": "markdown",
   "metadata": {},
   "source": [
    "##### 36.\n",
    "##### Define a function that can accept two strings as input and concatenate them and then print it in console.\n",
    "##### Hints:\n",
    "##### Use + to concatenate the strings"
   ]
  },
  {
   "cell_type": "code",
   "execution_count": 53,
   "metadata": {},
   "outputs": [
    {
     "name": "stdin",
     "output_type": "stream",
     "text": [
      "input two string hello, anil\n"
     ]
    },
    {
     "name": "stdout",
     "output_type": "stream",
     "text": [
      "hello anil\n"
     ]
    }
   ],
   "source": [
    "def sums(a,b):\n",
    "    print(a+b)\n",
    "a,b=input(\"input two string : \").split(\",\")\n",
    "sums(a,b)"
   ]
  },
  {
   "cell_type": "code",
   "execution_count": null,
   "metadata": {},
   "outputs": [],
   "source": []
  },
  {
   "cell_type": "markdown",
   "metadata": {},
   "source": [
    "##### 37.\n",
    "##### Define a function that can accept two strings as input and print the string with maximum length in console. If two strings have the same length, then the function should print al l strings line by line.\n",
    "##### Hints:\n",
    "##### Use len() function to get the length of a string"
   ]
  },
  {
   "cell_type": "code",
   "execution_count": 14,
   "metadata": {},
   "outputs": [
    {
     "name": "stdin",
     "output_type": "stream",
     "text": [
      "input two strings :  anil ,anil\n"
     ]
    },
    {
     "name": "stdout",
     "output_type": "stream",
     "text": [
      "Max length of string 5\n"
     ]
    }
   ],
   "source": [
    "def st(s,t):\n",
    "    m=len(s)\n",
    "    n=len(t)\n",
    "    if m>n:\n",
    "        print(\"Max length of string\",m)\n",
    "    elif n>m:\n",
    "        print(\"Max length of string\",n)\n",
    "    else:\n",
    "        print(\"both have same length \\n\",s,\"\\n\",t)\n",
    "s,t=input(\"input two strings : \").split(\",\")\n",
    "st(s,t)"
   ]
  },
  {
   "cell_type": "code",
   "execution_count": null,
   "metadata": {},
   "outputs": [],
   "source": []
  },
  {
   "cell_type": "markdown",
   "metadata": {},
   "source": [
    "##### 38.\n",
    "##### Define a function that can accept an integer number as input and print the \"It is an even number\" if the number is even, otherwise print \"It is an odd number\".\n",
    "##### Hints:\n",
    "##### Use % operator to check if a number is even or odd."
   ]
  },
  {
   "cell_type": "code",
   "execution_count": 58,
   "metadata": {},
   "outputs": [
    {
     "name": "stdin",
     "output_type": "stream",
     "text": [
      "input a number 4\n"
     ]
    },
    {
     "name": "stdout",
     "output_type": "stream",
     "text": [
      "it is an even number\n"
     ]
    }
   ],
   "source": [
    "def ero(n):\n",
    "    if not n%2:\n",
    "        print(\"it is an even number\")\n",
    "    else:\n",
    "        print(\"is is an odd number\")\n",
    "\n",
    "n=int(input(\"input a number\"))\n",
    "ero(n)        "
   ]
  },
  {
   "cell_type": "code",
   "execution_count": null,
   "metadata": {},
   "outputs": [],
   "source": []
  },
  {
   "cell_type": "markdown",
   "metadata": {},
   "source": [
    "##### 39.\n",
    "##### Define a function which can print a dictionary where the keys are numbers between 1 and 3 (both included) and the values are square of keys.\n",
    "##### Hints:\n",
    "##### Use dict[key]=value pattern to put entry into a dictionary. Use ** operator to get power of a number."
   ]
  },
  {
   "cell_type": "code",
   "execution_count": 59,
   "metadata": {},
   "outputs": [
    {
     "name": "stdout",
     "output_type": "stream",
     "text": [
      "{1: 1, 2: 4, 3: 9}\n"
     ]
    }
   ],
   "source": [
    "d=dict()\n",
    "for i in range(1,4):\n",
    "    d[i]=i**2\n",
    "print(d)"
   ]
  },
  {
   "cell_type": "code",
   "execution_count": null,
   "metadata": {},
   "outputs": [],
   "source": []
  },
  {
   "cell_type": "markdown",
   "metadata": {},
   "source": [
    "##### 40.\n",
    "##### Define a function which can print a dictionary where the keys are numbers between 1 and 20 (both included) and the values are square of keys.\n",
    "##### Hints:\n",
    "##### Use dict[key]=value pattern to put entry into a dictionary. Use ** operator to get power of a number. Use range() for loops."
   ]
  },
  {
   "cell_type": "code",
   "execution_count": 70,
   "metadata": {},
   "outputs": [
    {
     "name": "stdout",
     "output_type": "stream",
     "text": [
      "{1: 1, 2: 4, 3: 9, 4: 16, 5: 25, 6: 36, 7: 49, 8: 64, 9: 81, 10: 100, 11: 121, 12: 144, 13: 169, 14: 196, 15: 225, 16: 256, 17: 289, 18: 324, 19: 361, 20: 400}\n"
     ]
    }
   ],
   "source": [
    "d=dict()\n",
    "for i in range(1,21):\n",
    "    d[i]=i**2\n",
    "print(d)"
   ]
  },
  {
   "cell_type": "code",
   "execution_count": null,
   "metadata": {},
   "outputs": [],
   "source": []
  },
  {
   "cell_type": "markdown",
   "metadata": {},
   "source": [
    "##### 41.\n",
    "##### Define a function which can generate a dictionary where the keys are numbers between 1 and 20 (both included) and the values are square of keys. The function should just print the values only.\n",
    "##### Hints:\n",
    "##### Use dict[key]=value pattern to put entry into a dictionary. Use ** operator to get power of a number. Use range() for loops. Use keys() to iterate keys in the dictionary. Also we can use item() to get key/value pairs."
   ]
  },
  {
   "cell_type": "code",
   "execution_count": 69,
   "metadata": {},
   "outputs": [
    {
     "name": "stdout",
     "output_type": "stream",
     "text": [
      "dict_values([1, 4, 9, 16, 25, 36, 49, 64, 81, 100, 121, 144, 169, 196, 225, 256, 289, 324, 361, 400])\n"
     ]
    }
   ],
   "source": [
    "d=dict()\n",
    "for i in range(1,21):\n",
    "    d[i]=i**2\n",
    "print(d.values())"
   ]
  }
 ],
 "metadata": {
  "kernelspec": {
   "display_name": "Python 3",
   "language": "python",
   "name": "python3"
  },
  "language_info": {
   "codemirror_mode": {
    "name": "ipython",
    "version": 3
   },
   "file_extension": ".py",
   "mimetype": "text/x-python",
   "name": "python",
   "nbconvert_exporter": "python",
   "pygments_lexer": "ipython3",
   "version": "3.7.4"
  }
 },
 "nbformat": 4,
 "nbformat_minor": 4
}
